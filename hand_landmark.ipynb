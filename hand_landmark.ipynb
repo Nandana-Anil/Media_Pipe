{
 "cells": [
  {
   "cell_type": "code",
   "execution_count": 1,
   "id": "48e79cf2",
   "metadata": {},
   "outputs": [],
   "source": [
    "import mediapipe as mp \n",
    "import cv2"
   ]
  },
  {
   "cell_type": "code",
   "execution_count": 2,
   "id": "56cce663",
   "metadata": {},
   "outputs": [],
   "source": [
    "#Hand Landmark Detection\n",
    "\n",
    "mphands=mp.solutions.hands #to detect landmarks\n",
    "mp_drwing=mp.solutions.drawing_utils #to plot landmarks"
   ]
  },
  {
   "cell_type": "code",
   "execution_count": 3,
   "id": "5e9dcf60",
   "metadata": {},
   "outputs": [],
   "source": [
    "data=mphands.Hands() "
   ]
  },
  {
   "cell_type": "code",
   "execution_count": null,
   "id": "5e5ed526",
   "metadata": {},
   "outputs": [
    {
     "data": {
      "text/plain": [
       "<function destroyAllWindows>"
      ]
     },
     "execution_count": 5,
     "metadata": {},
     "output_type": "execute_result"
    },
    {
     "ename": "",
     "evalue": "",
     "output_type": "error",
     "traceback": [
      "\u001b[1;31mThe Kernel crashed while executing code in the current cell or a previous cell. \n",
      "\u001b[1;31mPlease review the code in the cell(s) to identify a possible cause of the failure. \n",
      "\u001b[1;31mClick <a href='https://aka.ms/vscodeJupyterKernelCrash'>here</a> for more info. \n",
      "\u001b[1;31mView Jupyter <a href='command:jupyter.viewOutput'>log</a> for further details."
     ]
    }
   ],
   "source": [
    "video=cv2.VideoCapture(0)\n",
    "while True:\n",
    "    suc,img=video.read()\n",
    "    img1=cv2.cvtColor(img,cv2.COLOR_BGR2RGB)\n",
    "    result=data.process(img1)\n",
    "    if result.multi_hand_landmarks:\n",
    "        for x in result.multi_hand_landmarks: #to show all 21 landmarks\n",
    "            mp_drwing.draw_landmarks(img,x,mphands.HAND_CONNECTIONS,mp_drwing.DrawingSpec(color=(255,0,0),thickness=5,circle_radius=4),mp_drwing.DrawingSpec(color=(255,255,0),thickness=5))\n",
    "    cv2.imshow(\"Image1\",img)\n",
    "    if cv2.waitKey(1) & 0xFF==ord('q'):\n",
    "        break\n",
    "video.release()\n",
    "cv2.destroyAllWindows()"
   ]
  }
 ],
 "metadata": {
  "kernelspec": {
   "display_name": "Python 3",
   "language": "python",
   "name": "python3"
  },
  "language_info": {
   "codemirror_mode": {
    "name": "ipython",
    "version": 3
   },
   "file_extension": ".py",
   "mimetype": "text/x-python",
   "name": "python",
   "nbconvert_exporter": "python",
   "pygments_lexer": "ipython3",
   "version": "3.8.0"
  }
 },
 "nbformat": 4,
 "nbformat_minor": 5
}
